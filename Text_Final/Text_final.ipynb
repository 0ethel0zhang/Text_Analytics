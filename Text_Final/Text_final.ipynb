{
 "cells": [
  {
   "cell_type": "code",
   "execution_count": 1,
   "metadata": {
    "collapsed": true
   },
   "outputs": [],
   "source": [
    "import tarfile\n",
    "import pandas as pd\n",
    "import numpy as np\n",
    "\n",
    "import string, re\n",
    "from nltk.tokenize import word_tokenize\n",
    "from nltk.corpus import stopwords\n",
    "from nltk.stem import WordNetLemmatizer\n",
    "from nltk.stem import PorterStemmer\n",
    "from nltk import pos_tag\n",
    "\n",
    "from sklearn.naive_bayes import MultinomialNB\n",
    "from sklearn.feature_extraction.text import CountVectorizer, TfidfVectorizer\n",
    "from sklearn.metrics import accuracy_score"
   ]
  },
  {
   "cell_type": "markdown",
   "metadata": {},
   "source": [
    "# Read data from compressed file"
   ]
  },
  {
   "cell_type": "code",
   "execution_count": 2,
   "metadata": {
    "collapsed": true
   },
   "outputs": [],
   "source": [
    "f = tarfile.open(\"review_polarity.tar.gz\", \"r\")\n",
    "train_pos_file_list = []\n",
    "train_neg_file_list = []\n",
    "test_pos_file_list = []\n",
    "test_neg_file_list = []\n",
    "for member in f.getmembers():\n",
    "    file=f.extractfile(member)\n",
    "    content=file.read()\n",
    "    if 'pos' in member.get_info()['name']:\n",
    "        if 'cv9' in member.get_info()['name']:\n",
    "            test_pos_file_list.append(content)\n",
    "        else:\n",
    "            train_pos_file_list.append(content)\n",
    "    else:\n",
    "        if 'cv9' in member.get_info()['name']:\n",
    "            test_neg_file_list.append(content)\n",
    "        else:\n",
    "            train_neg_file_list.append(content)\n",
    "    #sys.exit()\n",
    "f.close()"
   ]
  },
  {
   "cell_type": "markdown",
   "metadata": {},
   "source": [
    "# Data processing"
   ]
  },
  {
   "cell_type": "code",
   "execution_count": 3,
   "metadata": {
    "collapsed": true
   },
   "outputs": [],
   "source": [
    "train_pos_labels = [1 for i in range(len(train_pos_file_list))]\n",
    "train_neg_labels = [0 for i in range(len(train_neg_file_list))]\n",
    "\n",
    "test_pos_labels = [1 for i in range(len(test_pos_file_list))]\n",
    "test_neg_labels = [0 for i in range(len(test_neg_file_list))]"
   ]
  },
  {
   "cell_type": "code",
   "execution_count": 4,
   "metadata": {
    "collapsed": true
   },
   "outputs": [],
   "source": [
    "train_labels = train_pos_labels + train_neg_labels\n",
    "test_labels = test_pos_labels + test_neg_labels"
   ]
  },
  {
   "cell_type": "code",
   "execution_count": 5,
   "metadata": {
    "collapsed": true
   },
   "outputs": [],
   "source": [
    "train_pos_file_list = [str(text).replace(\"b'\", \"\").replace(\"\\\\n\",\"\").replace(\"\\\\'\",\"'\") for text in train_pos_file_list]\n",
    "train_neg_file_list = [str(text).replace(\"b'\", \"\").replace(\"\\\\n\",\"\").replace(\"\\\\'\",\"'\") for text in train_neg_file_list]\n",
    "test_pos_file_list = [str(text).replace(\"b'\", \"\").replace(\"\\\\n\",\"\").replace(\"\\\\'\",\"'\") for text in test_pos_file_list]\n",
    "test_neg_file_list = [str(text).replace(\"b'\", \"\").replace(\"\\\\n\",\"\").replace(\"\\\\'\",\"'\") for text in test_neg_file_list]"
   ]
  },
  {
   "cell_type": "code",
   "execution_count": 6,
   "metadata": {
    "collapsed": true
   },
   "outputs": [],
   "source": [
    "train_file_list = train_pos_file_list + train_neg_file_list\n",
    "test_file_list = test_pos_file_list + test_neg_file_list"
   ]
  },
  {
   "cell_type": "markdown",
   "metadata": {},
   "source": [
    "# Function for model building"
   ]
  },
  {
   "cell_type": "code",
   "execution_count": 88,
   "metadata": {
    "collapsed": true
   },
   "outputs": [],
   "source": [
    "def show_most_informative_features(vectorizer, classifier, n=10):\n",
    "    lines = []\n",
    "    class_labels = classifier.classes_\n",
    "    feature_names = vectorizer.get_feature_names()  \n",
    "    topn_pos_class = sorted(zip(classifier.feature_log_prob_[1], feature_names),reverse=True)[:n]\n",
    "    topn_neg_class = sorted(zip(classifier.feature_log_prob_[0], feature_names),reverse=True)[:n]    \n",
    "\n",
    "    print(\"Important words in positive reviews\")\n",
    "    for coef, feature in topn_pos_class:\n",
    "        lines.append([class_labels[1], coef, feature])\n",
    "        print(class_labels[1], coef, feature) \n",
    "    print(\"-----------------------------------------\")\n",
    "    print(\"Important words in negative reviews\")\n",
    "    for coef, feature in topn_neg_class:\n",
    "        lines.append([class_labels[0], coef, feature])\n",
    "        print(class_labels[0], coef, feature)\n",
    "    return lines"
   ]
  },
  {
   "cell_type": "code",
   "execution_count": 45,
   "metadata": {
    "collapsed": true
   },
   "outputs": [],
   "source": [
    "def Get_Accuracy(whichcleaning, binary=False, ngram=False, tfidf=False, show=True, stem=False):\n",
    "    files_train = [whichcleaning(word_tokenize(x), stem) for x in train_file_list]\n",
    "    files_test = [whichcleaning(word_tokenize(x), stem) for x in test_file_list]\n",
    "\n",
    "    if binary:\n",
    "        vectorizer = CountVectorizer(binary=True)\n",
    "    elif ngram:\n",
    "        vectorizer = CountVectorizer(ngram_range=(2,2))\n",
    "    elif tfidf:\n",
    "        vectorizer = TfidfVectorizer(min_df = 5, stop_words='english', sublinear_tf=True, max_df = round(len(train_file_list) * .8))\n",
    "    else:\n",
    "        vectorizer = CountVectorizer()\n",
    "\n",
    "    train_features = vectorizer.fit_transform([doc for doc in files_train])\n",
    "    test_features = vectorizer.transform([doc for doc in files_test])\n",
    "\n",
    "    tokens = vectorizer.get_feature_names()\n",
    "\n",
    "    nb_clf = MultinomialNB()\n",
    "\n",
    "    nb_clf.fit(train_features, train_labels)\n",
    "    predictions = nb_clf.predict(test_features)\n",
    "\n",
    "    accuracy = accuracy_score(predictions, test_labels)\n",
    "    print(\"Accuracy is {}%\".format(accuracy*100))\n",
    "    \n",
    "    if show:\n",
    "        # print out most informative features\n",
    "        thing = show_most_informative_features(vectorizer, nb_clf, n=5)\n",
    "        return accuracy, thing\n",
    "    else:\n",
    "        return accuracy"
   ]
  },
  {
   "cell_type": "markdown",
   "metadata": {},
   "source": [
    "# 1.\tProblem 1. \n",
    "In building the baselines, what shallow text features make sense for the task as a first-stab approach? (e.g., a language modeling approach is a standard way to tackle this problem, i.e., a bag-of-words approach). Experiment with the following baseline models (note that you have to run a POS tagger for models M3):"
   ]
  },
  {
   "cell_type": "markdown",
   "metadata": {},
   "source": [
    "- Run the classifier for each baseline feature and report the performance. What is the best model and which model is the least performant? \n",
    "\n",
    "- How do you interpret the differences in performance across these models (i.e., why do you think one model is better than another)? \n",
    "\n",
    "- For the unigram models M1-M4, list the top 5 most informative words identified by the classifier. What do you notice here? (compare these lists)."
   ]
  },
  {
   "cell_type": "markdown",
   "metadata": {},
   "source": [
    "## -M1: word present/absent"
   ]
  },
  {
   "cell_type": "code",
   "execution_count": 10,
   "metadata": {
    "collapsed": true
   },
   "outputs": [],
   "source": [
    "# word present/absent\n",
    "def clean(tokenized, stem=False):\n",
    "    punctuation_free = [x for x in tokenized if not re.fullmatch('[' + string.punctuation + ']+', x)]\n",
    "    unique_punctuation_free = list(set(punctuation_free))\n",
    "    if stem:\n",
    "        stemmedWords = []\n",
    "        for word in unique_punctuation_free:\n",
    "            try:\n",
    "                a = stemmer.stem(word)\n",
    "                stemmedWords.append(a)\n",
    "            except:\n",
    "                next\n",
    "        return ' '.join(stemmedWords)\n",
    "    else:\n",
    "        return ' '.join(unique_punctuation_free)"
   ]
  },
  {
   "cell_type": "code",
   "execution_count": 11,
   "metadata": {
    "collapsed": true
   },
   "outputs": [],
   "source": [
    "# # create a dataframe from a word matrix\n",
    "def wm2df(wm, feat_names):\n",
    "    # create an index for each row\n",
    "    doc_names = ['Doc{:d}'.format(idx) for idx, _ in enumerate(wm)]\n",
    "    df = pd.DataFrame(data=wm.toarray(), index=doc_names,\n",
    "                   columns=feat_names)\n",
    "    return(df)"
   ]
  },
  {
   "cell_type": "code",
   "execution_count": 21,
   "metadata": {
    "scrolled": true
   },
   "outputs": [
    {
     "name": "stdout",
     "output_type": "stream",
     "text": [
      "Accuracy is 86.0%\n",
      "Important words in positive reviews\n",
      "1 -5.956848974266556 the\n",
      "1 -5.956848974266556 of\n",
      "1 -5.957959468550583 to\n",
      "1 -5.957959468550583 is\n",
      "1 -5.957959468550583 and\n",
      "-----------------------------------------\n",
      "Important words in negative reviews\n",
      "0 -5.889864371418765 the\n",
      "0 -5.889864371418765 of\n",
      "0 -5.889864371418765 and\n",
      "0 -5.890974865702792 to\n",
      "0 -5.890974865702792 is\n"
     ]
    }
   ],
   "source": [
    "accuracy_wp, imp_wp = Get_Accuracy(whichcleaning=clean, binary=True)"
   ]
  },
  {
   "cell_type": "code",
   "execution_count": 63,
   "metadata": {},
   "outputs": [],
   "source": [
    "with open('answers.txt', 'w+') as f:\n",
    "    f.writelines(\"\\nProblem 1: M1 Word absence & presence\\n\")\n",
    "    f.writelines(\"Accuracy is {}%\\n\".format(accuracy_wp))\n",
    "    for line in imp_wp:\n",
    "        f.writelines(\"{} {} {}\\n\".format(line[0], line[1], line[2]))\n",
    "    f.writelines(\"The accuracy is quite high. However, the most informative words are almost exactly the same for both classes. These words seems to be stop words, that are common is any documents.\\n\")"
   ]
  },
  {
   "cell_type": "markdown",
   "metadata": {},
   "source": [
    "> The accuracy is quite high. However, the most informative words are almost exactly the same for both classes. These words seems to be stop words, that are common is any documents."
   ]
  },
  {
   "cell_type": "markdown",
   "metadata": {},
   "source": [
    "## - M2: term frequency"
   ]
  },
  {
   "cell_type": "code",
   "execution_count": 31,
   "metadata": {
    "collapsed": true
   },
   "outputs": [],
   "source": [
    "# term frequency\n",
    "def clean1(tokenized, stem=False):\n",
    "    punctuation_free = [x for x in tokenized if not re.fullmatch('[' + string.punctuation + ']+', x)]\n",
    "    if stem:\n",
    "        stemmedWords = []\n",
    "        for word in punctuation_free:\n",
    "            try:\n",
    "                a = stemmer.stem(word)\n",
    "                stemmedWords.append(a)\n",
    "            except:\n",
    "                next\n",
    "        return ' '.join(stemmedWords)\n",
    "    else:\n",
    "        return ' '.join(punctuation_free)"
   ]
  },
  {
   "cell_type": "code",
   "execution_count": 32,
   "metadata": {},
   "outputs": [
    {
     "name": "stdout",
     "output_type": "stream",
     "text": [
      "Accuracy is 83.5%\n",
      "Important words in positive reviews\n",
      "1 -2.840738587277439 the\n",
      "1 -3.5756175119023332 and\n",
      "1 -3.6397703179736975 of\n",
      "1 -3.759997481071675 to\n",
      "1 -3.898152823893758 is\n",
      "-----------------------------------------\n",
      "Important words in negative reviews\n",
      "0 -2.899320163163642 the\n",
      "0 -3.7056424046697813 and\n",
      "0 -3.719386357592498 of\n",
      "0 -3.7196026127744553 to\n",
      "0 -4.0058678632326075 is\n"
     ]
    }
   ],
   "source": [
    "accuracy_tf, imp_tf = Get_Accuracy(whichcleaning=clean1)"
   ]
  },
  {
   "cell_type": "code",
   "execution_count": 64,
   "metadata": {
    "collapsed": true
   },
   "outputs": [],
   "source": [
    "with open('answers.txt', 'a') as f:\n",
    "    f.writelines(\"\\nProblem 1: M2 Term frequency\\n\")\n",
    "    f.writelines(\"Accuracy is {}%\\n\".format(accuracy_tf))\n",
    "    for line in imp_tf:\n",
    "        f.writelines(\"{} {} {}\\n\".format(line[0], line[1], line[2]))\n",
    "    f.writelines(\"The accuracy is also quite high. However, once again, the most informative words are almost exactly the same for both classes. These words seems to be stop words, that are common is any documents.\\n\")"
   ]
  },
  {
   "cell_type": "markdown",
   "metadata": {},
   "source": [
    "> The accuracy is also quite high. However, once again, the most informative words are almost exactly the same for both classes. These words seems to be stop words, that are common is any documents."
   ]
  },
  {
   "cell_type": "markdown",
   "metadata": {},
   "source": [
    "## - M3: POS advj"
   ]
  },
  {
   "cell_type": "code",
   "execution_count": 34,
   "metadata": {
    "collapsed": true
   },
   "outputs": [],
   "source": [
    "def clean_pos(tokenized, stem=False):\n",
    "    punctuation_free = [x for x in tokenized if not re.fullmatch('[' + string.punctuation + ']+', x)]\n",
    "    word_posTags = pos_tag(punctuation_free)\n",
    "    # get adjv words by the POS tags\n",
    "    adjv_words = [x[0] for x in word_posTags if len(re.findall('(RB\\w*|JJ\\w*)', x[1]))>0]\n",
    "    # presence/absence\n",
    "    unique_adjv_words = list(set(adjv_words))\n",
    "    if stem:\n",
    "        stemmedWords = []\n",
    "        for word in unique_adjv_words:\n",
    "            try:\n",
    "                a = stemmer.stem(word)\n",
    "                stemmedWords.append(a)\n",
    "            except:\n",
    "                next\n",
    "        return ' '.join(stemmedWords)\n",
    "    else:\n",
    "        return ' '.join(unique_adjv_words)"
   ]
  },
  {
   "cell_type": "code",
   "execution_count": 35,
   "metadata": {},
   "outputs": [
    {
     "name": "stdout",
     "output_type": "stream",
     "text": [
      "Accuracy is 87.0%\n",
      "Important words in positive reviews\n",
      "1 -4.839375545880551 not\n",
      "1 -4.978294782472198 more\n",
      "1 -5.005486790167449 when\n",
      "1 -5.065441651637363 so\n",
      "1 -5.122313162591969 most\n",
      "-----------------------------------------\n",
      "Important words in negative reviews\n",
      "0 -4.784832166746287 not\n",
      "0 -4.916657559525709 when\n",
      "0 -4.930387752337611 so\n",
      "0 -4.930387752337611 more\n",
      "0 -4.979177916507043 only\n"
     ]
    }
   ],
   "source": [
    "accuracy_pos, imp_pos = Get_Accuracy(whichcleaning=clean_pos, binary=True)"
   ]
  },
  {
   "cell_type": "code",
   "execution_count": 65,
   "metadata": {
    "collapsed": true
   },
   "outputs": [],
   "source": [
    "with open('answers.txt', 'a') as f:\n",
    "    f.writelines(\"\\nProblem 1: M3 Adj/Adv POS tagging\\n\")\n",
    "    f.writelines(\"Accuracy is {}%\\n\".format(accuracy_pos))\n",
    "    for line in imp_pos:\n",
    "        f.writelines(\"{} {} {}\\n\".format(line[0], line[1], line[2]))\n",
    "    f.writelines(\"The accuracy is the highest so far. However, once again, the most informative words are almost exactly the same for both classes. These words seems to be stop words, that are common is any documents.\\n\")"
   ]
  },
  {
   "cell_type": "markdown",
   "metadata": {},
   "source": [
    "> The accuracy is the highest so far. However, once again, the most informative words are almost exactly the same for both classes. These words seems to be stop words, that are common is any documents."
   ]
  },
  {
   "attachments": {
    "image.png": {
     "image/png": "[encoded data removed]"
    }
   },
   "cell_type": "markdown",
   "metadata": {},
   "source": [
    "## -M4: Sublinear tf-idf\n",
    "Note: For model M4 use sublinear tf-idf. Here, besides removing stop words, you also have to remove those vocabulary words that occurred in less than 5 documents (i.e., files) and those that occurred in more than 80% of documents.![image.png](attachment:image.png)"
   ]
  },
  {
   "cell_type": "code",
   "execution_count": 40,
   "metadata": {
    "collapsed": true
   },
   "outputs": [],
   "source": [
    "stop_words = set(stopwords.words('english'))"
   ]
  },
  {
   "cell_type": "code",
   "execution_count": 38,
   "metadata": {
    "collapsed": true
   },
   "outputs": [],
   "source": [
    "def clean_tfidf(tokenized, stem=False):\n",
    "    cleaned = [x for x in tokenized if not re.fullmatch('[' + string.punctuation + ']+', x) and x not in stop_words]\n",
    "    if stem:\n",
    "        stemmedWords = []\n",
    "        for word in cleaned:\n",
    "            try:\n",
    "                a = stemmer.stem(word)\n",
    "                stemmedWords.append(a)\n",
    "            except:\n",
    "                next\n",
    "        return ' '.join(stemmedWords)\n",
    "    else:\n",
    "        return ' '.join(cleaned)"
   ]
  },
  {
   "cell_type": "code",
   "execution_count": 41,
   "metadata": {},
   "outputs": [
    {
     "name": "stdout",
     "output_type": "stream",
     "text": [
      "Accuracy is 85.5%\n",
      "Important words in positive reviews\n",
      "1 -6.950690881656748 movie\n",
      "1 -7.117846360899243 like\n",
      "1 -7.217263992577482 story\n",
      "1 -7.219986250430932 life\n",
      "1 -7.229668354616171 good\n",
      "-----------------------------------------\n",
      "Important words in negative reviews\n",
      "0 -6.738589295181579 movie\n",
      "0 -6.97872693412327 like\n",
      "0 -7.098268371686496 bad\n",
      "0 -7.183224842908503 good\n",
      "0 -7.211225327985219 plot\n"
     ]
    },
    {
     "name": "stderr",
     "output_type": "stream",
     "text": [
      "/opt/anaconda3/lib/python3.5/site-packages/sklearn/feature_extraction/text.py:1059: FutureWarning: Conversion of the second argument of issubdtype from `float` to `np.floating` is deprecated. In future, it will be treated as `np.float64 == np.dtype(float).type`.\n",
      "  if hasattr(X, 'dtype') and np.issubdtype(X.dtype, np.float):\n"
     ]
    }
   ],
   "source": [
    "accuracy_tfidf, imp_tfidf = Get_Accuracy(whichcleaning=clean_tfidf, tfidf=True)"
   ]
  },
  {
   "cell_type": "code",
   "execution_count": 66,
   "metadata": {
    "collapsed": true
   },
   "outputs": [],
   "source": [
    "with open('answers.txt', 'a') as f:\n",
    "    f.writelines(\"\\nProblem 1: M4 Sublinear TF-IDF\\n\")\n",
    "    f.writelines(\"Accuracy is {}%\\n\".format(accuracy_tfidf))\n",
    "    for line in imp_tfidf:\n",
    "        f.writelines(\"{} {} {}\\n\".format(line[0], line[1], line[2]))\n",
    "    f.writelines(\"The accuracy is also quite high. However, once again, the most informative words are almost exactly the same for both classes, even when the stop words are removed. The only noticeable difference is that the negative word 'bad' is only most informative for the negative class.\\n\")"
   ]
  },
  {
   "cell_type": "markdown",
   "metadata": {},
   "source": [
    "> The accuracy is also quite high. However, once again, the most informative words are almost exactly the same for both classes, even when the stop words are removed. The only noticeable difference is that the negative word 'bad' is only most informative for the negative class."
   ]
  },
  {
   "cell_type": "markdown",
   "metadata": {},
   "source": [
    "## -M5: Bigrams"
   ]
  },
  {
   "cell_type": "code",
   "execution_count": 46,
   "metadata": {},
   "outputs": [
    {
     "name": "stdout",
     "output_type": "stream",
     "text": [
      "Accuracy is 83.5%\n"
     ]
    }
   ],
   "source": [
    "accuracy_bg = Get_Accuracy(clean1, ngram=True, show=False)"
   ]
  },
  {
   "cell_type": "code",
   "execution_count": 67,
   "metadata": {},
   "outputs": [],
   "source": [
    "with open('answers.txt', 'a') as f:\n",
    "    f.writelines(\"\\nProblem 1: M5 Bigrams\\n\")\n",
    "    f.writelines(\"Accuracy is {}%\\n\".format(accuracy_bg))\n",
    "    f.writelines(\"Bigram accuracy is the lowest among all. Seems like neigbouring words do not help the classifier to identify classes.\\n\")"
   ]
  },
  {
   "cell_type": "markdown",
   "metadata": {},
   "source": [
    "> Bigram accuracy is the lowest among all. Seems like neigbouring words do not help the classifier to identify classes."
   ]
  },
  {
   "cell_type": "markdown",
   "metadata": {},
   "source": [
    "# Problem 2. \n",
    "Redo Problem1 but with stemming (use Porter’s stemmer). Is this worth doing? Compare the models’ performance with those at Problem1."
   ]
  },
  {
   "cell_type": "code",
   "execution_count": 50,
   "metadata": {
    "collapsed": true
   },
   "outputs": [],
   "source": [
    "from nltk.stem import PorterStemmer"
   ]
  },
  {
   "cell_type": "code",
   "execution_count": 51,
   "metadata": {
    "collapsed": true
   },
   "outputs": [],
   "source": [
    "stemmer = PorterStemmer()"
   ]
  },
  {
   "cell_type": "markdown",
   "metadata": {},
   "source": [
    "## - M1"
   ]
  },
  {
   "cell_type": "code",
   "execution_count": 52,
   "metadata": {},
   "outputs": [
    {
     "name": "stdout",
     "output_type": "stream",
     "text": [
      "Accuracy is 86.5%\n",
      "Important words in positive reviews\n",
      "1 -5.874126057465444 the\n",
      "1 -5.874126057465444 of\n",
      "1 -5.875236551749471 to\n",
      "1 -5.875236551749471 is\n",
      "1 -5.875236551749471 and\n",
      "-----------------------------------------\n",
      "Important words in negative reviews\n",
      "0 -5.811011388055521 the\n",
      "0 -5.811011388055521 of\n",
      "0 -5.811011388055521 and\n",
      "0 -5.8121218823395475 to\n",
      "0 -5.8121218823395475 is\n"
     ]
    }
   ],
   "source": [
    "acc_p2m1, imp_p2m1 = Get_Accuracy(whichcleaning=clean, binary=True, stem=True)"
   ]
  },
  {
   "cell_type": "code",
   "execution_count": 68,
   "metadata": {
    "collapsed": true
   },
   "outputs": [],
   "source": [
    "with open('answers.txt', 'a') as f:\n",
    "    f.writelines(\"\\nProblem 2: M1\\n\")\n",
    "    f.writelines(\"Accuracy is {}%\\n\".format(acc_p2m1))\n",
    "    for line in imp_p2m1:\n",
    "        f.writelines(\"{} {} {}\\n\".format(line[0], line[1], line[2]))"
   ]
  },
  {
   "cell_type": "markdown",
   "metadata": {},
   "source": [
    "## - M2"
   ]
  },
  {
   "cell_type": "code",
   "execution_count": 54,
   "metadata": {},
   "outputs": [
    {
     "name": "stdout",
     "output_type": "stream",
     "text": [
      "Accuracy is 83.5%\n",
      "Important words in positive reviews\n",
      "1 -2.8218423300926645 the\n",
      "1 -3.5565865292205547 and\n",
      "1 -3.6204997425983514 of\n",
      "1 -3.7408313906412616 to\n",
      "1 -3.879199411704203 is\n",
      "-----------------------------------------\n",
      "Important words in negative reviews\n",
      "0 -2.878436116876138 the\n",
      "0 -3.6844726304885285 and\n",
      "0 -3.6981445087418567 of\n",
      "0 -3.6984328385932024 to\n",
      "0 -3.984986093661419 is\n"
     ]
    }
   ],
   "source": [
    "acc_p2m2, imp_p2m2 = Get_Accuracy(whichcleaning=clean1, stem=True)"
   ]
  },
  {
   "cell_type": "code",
   "execution_count": 69,
   "metadata": {
    "collapsed": true
   },
   "outputs": [],
   "source": [
    "with open('answers.txt', 'a') as f:\n",
    "    f.writelines(\"\\nProblem 2: M2\\n\")\n",
    "    f.writelines(\"Accuracy is {}%\\n\".format(acc_p2m2))\n",
    "    for line in imp_p2m2:\n",
    "        f.writelines(\"{} {} {}\\n\".format(line[0], line[1], line[2]))"
   ]
  },
  {
   "cell_type": "markdown",
   "metadata": {},
   "source": [
    "## -M3"
   ]
  },
  {
   "cell_type": "code",
   "execution_count": 56,
   "metadata": {
    "scrolled": true
   },
   "outputs": [
    {
     "name": "stdout",
     "output_type": "stream",
     "text": [
      "Accuracy is 86.5%\n",
      "Important words in positive reviews\n",
      "1 -4.816078359324657 not\n",
      "1 -4.954997595916304 more\n",
      "1 -4.982189603611555 when\n",
      "1 -5.042144465081469 so\n",
      "1 -5.099015976036076 most\n",
      "-----------------------------------------\n",
      "Important words in negative reviews\n",
      "0 -4.7584993363994705 not\n",
      "0 -4.892977250628024 when\n",
      "0 -4.9067074434399265 so\n",
      "0 -4.9067074434399265 more\n",
      "0 -4.955497607609358 onli\n"
     ]
    }
   ],
   "source": [
    "acc_p2m3, imp_p2m3 = Get_Accuracy(whichcleaning=clean_pos, binary=True, stem=True)"
   ]
  },
  {
   "cell_type": "code",
   "execution_count": 70,
   "metadata": {
    "collapsed": true
   },
   "outputs": [],
   "source": [
    "with open('answers.txt', 'a') as f:\n",
    "    f.writelines(\"\\nProblem 2: M3\\n\")\n",
    "    f.writelines(\"Accuracy is {}%\\n\".format(acc_p2m3))\n",
    "    for line in imp_p2m3:\n",
    "        f.writelines(\"{} {} {}\\n\".format(line[0], line[1], line[2]))"
   ]
  },
  {
   "cell_type": "markdown",
   "metadata": {},
   "source": [
    "## -M4"
   ]
  },
  {
   "cell_type": "code",
   "execution_count": 59,
   "metadata": {},
   "outputs": [
    {
     "name": "stdout",
     "output_type": "stream",
     "text": [
      "Accuracy is 85.0%\n",
      "Important words in positive reviews\n",
      "1 -6.851678248100096 charact\n",
      "1 -6.873881312329068 like\n",
      "1 -6.913031948970374 make\n",
      "1 -6.93374621915882 time\n",
      "1 -6.975088959919418 stori\n",
      "-----------------------------------------\n",
      "Important words in negative reviews\n",
      "0 -6.725568462109111 like\n",
      "0 -6.811139260741474 charact\n",
      "0 -6.881642269038005 bad\n",
      "0 -6.890574116575978 make\n",
      "0 -6.939384912776044 time\n"
     ]
    },
    {
     "name": "stderr",
     "output_type": "stream",
     "text": [
      "/opt/anaconda3/lib/python3.5/site-packages/sklearn/feature_extraction/text.py:1059: FutureWarning: Conversion of the second argument of issubdtype from `float` to `np.floating` is deprecated. In future, it will be treated as `np.float64 == np.dtype(float).type`.\n",
      "  if hasattr(X, 'dtype') and np.issubdtype(X.dtype, np.float):\n"
     ]
    }
   ],
   "source": [
    "acc_p2m4, imp_p2m4 = Get_Accuracy(whichcleaning=clean_tfidf, tfidf=True, stem=True)"
   ]
  },
  {
   "cell_type": "code",
   "execution_count": 71,
   "metadata": {
    "collapsed": true
   },
   "outputs": [],
   "source": [
    "with open('answers.txt', 'a') as f:\n",
    "    f.writelines(\"\\nProblem 2: M4\\n\")\n",
    "    f.writelines(\"Accuracy is {}%\\n\".format(acc_p2m4))\n",
    "    for line in imp_p2m4:\n",
    "        f.writelines(\"{} {} {}\\n\".format(line[0], line[1], line[2]))"
   ]
  },
  {
   "cell_type": "markdown",
   "metadata": {},
   "source": [
    "## -M5"
   ]
  },
  {
   "cell_type": "code",
   "execution_count": 61,
   "metadata": {},
   "outputs": [
    {
     "name": "stdout",
     "output_type": "stream",
     "text": [
      "Accuracy is 83.5%\n"
     ]
    }
   ],
   "source": [
    "acc_p2m5 = Get_Accuracy(clean1, ngram=True, show=False, stem=True)"
   ]
  },
  {
   "cell_type": "code",
   "execution_count": 72,
   "metadata": {
    "collapsed": true
   },
   "outputs": [],
   "source": [
    "with open('answers.txt', 'a') as f:\n",
    "    f.writelines(\"\\nProblem 2: M5\\n\")\n",
    "    f.writelines(\"Accuracy is {}%\\n\".format(acc_p2m5))\n",
    "    f.writelines(\"The accuracy did not significantly increase and sometimes decreased so it is not worth stemming.\\n\")"
   ]
  },
  {
   "cell_type": "markdown",
   "metadata": {},
   "source": [
    "> The accuracy did not significantly increase and sometimes decreased so it is not worth stemming."
   ]
  },
  {
   "cell_type": "markdown",
   "metadata": {},
   "source": [
    "# Problem 3. \n",
    "Here you have to experiment with the Pos/Neg ratio (use the EmoLex lexicon provided). Compare the performance of this model with those you got for Problems 1 and 2."
   ]
  },
  {
   "cell_type": "code",
   "execution_count": 73,
   "metadata": {
    "collapsed": true
   },
   "outputs": [],
   "source": [
    "emolex = []\n",
    "with open(\"NRC_Emotion.txt\", \"r\") as f:\n",
    "    emolex.append(f.readlines())"
   ]
  },
  {
   "cell_type": "code",
   "execution_count": 74,
   "metadata": {
    "collapsed": true
   },
   "outputs": [],
   "source": [
    "emolex = [x.replace(\"\\n\",\"\").split(\"\\t\") for x in emolex[0]]"
   ]
  },
  {
   "cell_type": "code",
   "execution_count": 75,
   "metadata": {
    "collapsed": true
   },
   "outputs": [],
   "source": [
    "emolex_df = pd.DataFrame(emolex).rename(columns=dict(zip(range(4), [\"word\",'area','pos_neg','none'])))"
   ]
  },
  {
   "cell_type": "code",
   "execution_count": 76,
   "metadata": {
    "collapsed": true
   },
   "outputs": [],
   "source": [
    "# only take the mode for words with multiple sentiments\n",
    "pos_neg = emolex_df.groupby(\"word\").pos_neg.apply(lambda x: x.mode().mean()).reset_index()"
   ]
  },
  {
   "cell_type": "code",
   "execution_count": 77,
   "metadata": {
    "collapsed": true
   },
   "outputs": [],
   "source": [
    "pos_neg_dic = dict(zip(pos_neg.word, pos_neg.pos_neg))"
   ]
  },
  {
   "cell_type": "code",
   "execution_count": 78,
   "metadata": {
    "collapsed": true
   },
   "outputs": [],
   "source": [
    "def sentiment_score(tokenized):\n",
    "    pos = 0\n",
    "    neg = 0\n",
    "    for word in tokenized:\n",
    "        try:\n",
    "            score = pos_neg_dic[word]\n",
    "            if score == 1:\n",
    "                neg += 1\n",
    "            elif score == 0:\n",
    "                pos += 1\n",
    "        except:\n",
    "            next\n",
    "    if neg == 0 and pos == 0:\n",
    "        return 0\n",
    "    elif neg == 0:\n",
    "        return pos\n",
    "    else:\n",
    "        return pos/neg"
   ]
  },
  {
   "cell_type": "code",
   "execution_count": 79,
   "metadata": {
    "collapsed": true
   },
   "outputs": [],
   "source": [
    "scores_train = [sentiment_score(word_tokenize(x)) for x in train_file_list]"
   ]
  },
  {
   "cell_type": "code",
   "execution_count": 80,
   "metadata": {
    "collapsed": true
   },
   "outputs": [],
   "source": [
    "scores = [sentiment_score(word_tokenize(x)) for x in test_file_list]"
   ]
  },
  {
   "cell_type": "code",
   "execution_count": 83,
   "metadata": {},
   "outputs": [
    {
     "name": "stdout",
     "output_type": "stream",
     "text": [
      "Accuracy is 50.0%\n"
     ]
    }
   ],
   "source": [
    "nb_clf = MultinomialNB()\n",
    "\n",
    "nb_clf.fit(np.reshape(scores_train, (len(scores_train), 1)), train_labels)\n",
    "\n",
    "predictions = nb_clf.predict(np.reshape(scores, (len(scores), 1)))\n",
    "\n",
    "accuracy = accuracy_score(predictions, test_labels)\n",
    "print(\"Accuracy is {}%\".format(accuracy*100))"
   ]
  },
  {
   "cell_type": "code",
   "execution_count": 84,
   "metadata": {
    "collapsed": true
   },
   "outputs": [],
   "source": [
    "with open('answers.txt', 'a') as f:\n",
    "    f.writelines(\"\\nProblem 3: Pos/Neg Ratio\\n\")\n",
    "    f.writelines(\"Accuracy is {}%\\n\".format(accuracy))"
   ]
  },
  {
   "cell_type": "markdown",
   "metadata": {},
   "source": [
    "# Problem 4. \n",
    "How would you improve over the models you have experimented with so far? Meaning, what text features are most beneficial to the task of sentiment analysis? -- i.e., if you had to do it again, what would you change? For example, if you had to solve the problem in a different (and hopefully more efficient way), which features would you choose? Write 1-2 short paragraphs about the features you might want to try for this problem."
   ]
  },
  {
   "cell_type": "code",
   "execution_count": null,
   "metadata": {
    "collapsed": true
   },
   "outputs": [],
   "source": [
    "# numbers to placeholders\n",
    "# get rid of stopwords / movie related words\n",
    "# only keeping the words that are not neutral"
   ]
  },
  {
   "cell_type": "markdown",
   "metadata": {},
   "source": [
    "> Based on the previous exercise, it seems like it would be beneficial to do the following things:\n",
    "    1. Numbers can be converted to just placeholders. There are many numbers that became parts of the dictionary. However, the different numbers do not have different sentiments attached unless they are used as ways to rate things.\n",
    "    2. Removing stop words and words that are generic for the subject (e.g. movie, story, plot). As is seen previously, removing stop words helped with model performance. We can go one step further to remove generic words that refers to the subject in discussion. Previously, the informative words were things like movie, story, and plot. However, they are just words that are synonyms to the subject \"movie\". Thus getting rid of them might make the more sentiment-telling words surface more easily.\n",
    "    3. Only keeping words that are not neutral (i.e. sentiment-telling words). Even though the pos/neg ratio did not work too well with predicting sentiment, one thing that it can be useful is as a filter. After only keeping the non-neutral words, if will be more clear what the sentiment of the text is."
   ]
  },
  {
   "cell_type": "code",
   "execution_count": 86,
   "metadata": {},
   "outputs": [],
   "source": [
    "with open('answers.txt', 'a') as f:\n",
    "    f.writelines(\"\\nProblem 4: Improvements\\n\")\n",
    "    f.writelines(\"1. Numbers can be converted to just placeholders. There are many numbers that became parts of the dictionary. However, the different numbers do not have different sentiments attached unless they are used as ways to rate things.\\n\")\n",
    "    f.writelines(\"2. Removing stop words and words that are generic for the subject (e.g. movie, story, plot). As is seen previously, removing stop words helped with model performance. We can go one step further to remove generic words that refers to the subject in discussion. Previously, the informative words were things like movie, story, and plot. However, they are just words that are synonyms to the subject 'movie'. Thus getting rid of them might make the more sentiment-telling words surface more easily.\\n\")\n",
    "    f.writelines(\"3. Only keeping words that are not neutral (i.e. sentiment-telling words). Even though the pos/neg ratio did not work too well with predicting sentiment, one thing that it can be useful is as a filter. After only keeping the non-neutral words, if will be more clear what the sentiment of the text is.\\n\")"
   ]
  }
 ],
 "metadata": {
  "anaconda-cloud": {},
  "kernelspec": {
   "display_name": "Python [conda env:anaconda3]",
   "language": "python",
   "name": "conda-env-anaconda3-py"
  },
  "language_info": {
   "codemirror_mode": {
    "name": "ipython",
    "version": 3
   },
   "file_extension": ".py",
   "mimetype": "text/x-python",
   "name": "python",
   "nbconvert_exporter": "python",
   "pygments_lexer": "ipython3",
   "version": "3.5.2"
  }
 },
 "nbformat": 4,
 "nbformat_minor": 2
}
